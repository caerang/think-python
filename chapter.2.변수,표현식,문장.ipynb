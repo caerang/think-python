{
 "cells": [
  {
   "cell_type": "markdown",
   "metadata": {},
   "source": [
    "# 할당문\n",
    "\n",
    "* 새 변수를 생성하고 값을 할당"
   ]
  },
  {
   "cell_type": "code",
   "execution_count": 1,
   "metadata": {},
   "outputs": [],
   "source": [
    "message = 'And now for something completely different'\n",
    "n = 17\n",
    "pi = 3.141592653589793"
   ]
  },
  {
   "cell_type": "markdown",
   "metadata": {},
   "source": [
    "* 위 예제는 세번의 변수 할당\n",
    "* 첫 번째는 message에 문자열 할당\n",
    "* 두 번째는 n에 정수\n",
    "* 세 번째는 pi에 파이값(실수)\n",
    "\n",
    "\n",
    "# 변수 이름\n",
    "\n",
    "* 변수 이름은 원하는데로 지을 수 있음\n",
    "* 프로그래밍 언어의 예약어, 키워드는 사용할 수 없음\n",
    "* 변수에 적합하지 않은 이름을 사용하면 구문 오류"
   ]
  },
  {
   "cell_type": "code",
   "execution_count": 5,
   "metadata": {},
   "outputs": [
    {
     "ename": "SyntaxError",
     "evalue": "invalid syntax (<ipython-input-5-ee59a172c534>, line 1)",
     "output_type": "error",
     "traceback": [
      "\u001b[0;36m  File \u001b[0;32m\"<ipython-input-5-ee59a172c534>\"\u001b[0;36m, line \u001b[0;32m1\u001b[0m\n\u001b[0;31m    76trombones = 'big parade'\u001b[0m\n\u001b[0m              ^\u001b[0m\n\u001b[0;31mSyntaxError\u001b[0m\u001b[0;31m:\u001b[0m invalid syntax\n"
     ]
    }
   ],
   "source": [
    "# 변수 이름이 숫자로 시작\n",
    "76trombones = 'big parade'"
   ]
  },
  {
   "cell_type": "code",
   "execution_count": 4,
   "metadata": {},
   "outputs": [
    {
     "ename": "SyntaxError",
     "evalue": "invalid syntax (<ipython-input-4-bf62d34375db>, line 1)",
     "output_type": "error",
     "traceback": [
      "\u001b[0;36m  File \u001b[0;32m\"<ipython-input-4-bf62d34375db>\"\u001b[0;36m, line \u001b[0;32m1\u001b[0m\n\u001b[0;31m    more@ = 100000\u001b[0m\n\u001b[0m          ^\u001b[0m\n\u001b[0;31mSyntaxError\u001b[0m\u001b[0;31m:\u001b[0m invalid syntax\n"
     ]
    }
   ],
   "source": [
    "# 변수 이름에 사용할 수 없는 특수 문자\n",
    "more@ = 100000"
   ]
  },
  {
   "cell_type": "code",
   "execution_count": 6,
   "metadata": {},
   "outputs": [
    {
     "ename": "SyntaxError",
     "evalue": "invalid syntax (<ipython-input-6-73fc4ce1a15a>, line 1)",
     "output_type": "error",
     "traceback": [
      "\u001b[0;36m  File \u001b[0;32m\"<ipython-input-6-73fc4ce1a15a>\"\u001b[0;36m, line \u001b[0;32m1\u001b[0m\n\u001b[0;31m    class = 'Advanced Theoretical Zymurgy'\u001b[0m\n\u001b[0m          ^\u001b[0m\n\u001b[0;31mSyntaxError\u001b[0m\u001b[0;31m:\u001b[0m invalid syntax\n"
     ]
    }
   ],
   "source": [
    "# 예약어를 변수 이름으로 사용\n",
    "class = 'Advanced Theoretical Zymurgy'"
   ]
  },
  {
   "cell_type": "markdown",
   "metadata": {},
   "source": [
    "# 표현식과 문장\n",
    "* 표현식\n",
    "  * 새로운 값을 만들기 위한 하나 이상의 값, 변수, 연산자 등의 조합\n",
    "  * 값은 그 자체로 표현식, 변수도 그 자체로 표현식\n",
    "  * 새로운 값을 생성하기 위한 과정을 평가라고 함\n",
    "  * 프롬프트에 표현식을 입력하면 인터프리터는 표현식을 평가\n",
    "  * 표현식을 평가 한다는 건 표현식의 값을 알아내는 것\n",
    "* 문장\n",
    "  * 영향을 주는 코드의 단위\n",
    "  * 영향이란 변수를 생성하거나 값을 표시하는 것\n",
    "  * 인터프리터는 문장을 실행\n",
    "  * 문장이 지시하는 대로 실행 한다는 것\n",
    "\n",
    "## 참고\n",
    "\n",
    "* [Expression](https://en.wikipedia.org/wiki/Expression_(computer_science))\n",
    "* [Statement](https://en.wikipedia.org/wiki/Statement_\\(computer_science\\))\n",
    "\n",
    "# 스크립트 모드\n",
    "\n",
    "\n",
    "# 연산 순서\n",
    "* 연산자는 실행 되는 우선 순위가 있음\n",
    "* 표현식에 연산자가 2개 이상인 경우 평가 순서는 연산 순서를 따름\n",
    "* 괄호 : 가장 높은 우선순위, 표현식을 원하는 우선 순서로 평가되도록 하는데 사용\n",
    "* 거듭제곱 : 그 다음 높은 우선 순위\n",
    "* 곱셈과 나눗셈 : 덧셈과 뺄셈 보다 높은 우선 순위\n",
    "* 같은 우선 순위를 갖는 연산자는 왼쪽에서 오른쪽으로 평가\n",
    "\n",
    "# 문자열 연산\n",
    "* 문자열은 문자들의 나열을 말함\n",
    "* 일반적으로 문자열에 수학 연산 사용 (X)\n",
    "* 단, '+' 와 '*' 연산자는 사용 가능\n",
    "* '+' 연산자는 두 문자열을 연결"
   ]
  },
  {
   "cell_type": "code",
   "execution_count": 7,
   "metadata": {},
   "outputs": [
    {
     "data": {
      "text/plain": [
       "'throatwarbler'"
      ]
     },
     "execution_count": 7,
     "metadata": {},
     "output_type": "execute_result"
    }
   ],
   "source": [
    "first = 'throat'\n",
    "second = 'warbler'\n",
    "first + second"
   ]
  },
  {
   "cell_type": "markdown",
   "metadata": {},
   "source": [
    "* '*' 연산자도 문자열에 사용 가능\n",
    "* '*' 연산자는 반복 처리\n",
    "* 'Spam'*3 은 SpamSpamSpam 출력"
   ]
  },
  {
   "cell_type": "code",
   "execution_count": 8,
   "metadata": {},
   "outputs": [
    {
     "data": {
      "text/plain": [
       "'SpamSpamSpam'"
      ]
     },
     "execution_count": 8,
     "metadata": {},
     "output_type": "execute_result"
    }
   ],
   "source": [
    "'Spam'*3"
   ]
  },
  {
   "cell_type": "markdown",
   "metadata": {},
   "source": [
    "# 주석\n",
    "\n",
    "* 프로그램이 점점 커지고 복잡해지면 프로그램을 읽는 것도 어려워 짐\n",
    "* 자연언어로 프로그램의 의도나 이유 등 설명을 추가해서 프로그램을 읽는 사람이 코드를 이해하기 쉽도록 도움\n",
    "* 이런 설명을 주석이라고 함\n",
    "* 주석은 '#' 기호로 시작"
   ]
  },
  {
   "cell_type": "code",
   "execution_count": 11,
   "metadata": {},
   "outputs": [],
   "source": [
    "# 지연된 시간의 비율을 계산한다\n",
    "percentage = 0\n",
    "minute = 25\n",
    "percentage = (minute * 100) / 60"
   ]
  },
  {
   "cell_type": "markdown",
   "metadata": {},
   "source": [
    "* 좋은 변수 이름을 사용하면 주석을 덜 사용할 수 있음\n",
    "\n",
    "\n",
    "# 디버깅\n",
    "\n",
    "* 프로그램에서 일어날 수 있는 오류는 세가지가 있음\n",
    "* 구문 오류\n",
    "  * 프로그램의 구조와 구조에 있는 규칙을 나타냄\n",
    "  * 구문 오류는 문법적인 오류로 이해하면 됨\n",
    "  * 가장 해결하기 쉬운 오류\n",
    "  * 오류에 대한 피드백이 빠름(인터프리터에서 바로 구문 오류를 알려 줌)\n",
    "  * 프로그래밍 초기에 구문 오류를 확인하면서 오류를 수정하는 습관을 들이면 언어에 익숙해 지는 시간 단축 가능\n",
    "* 런타임 오류\n",
    "  * 프로그램을 실행하기 전에는 발생하지 않음\n",
    "  * 프로그램 실행 중에 발생하는 오류\n",
    "  * 프로그램 실행 중 예외 상황에서 발생하는 오류로 예외라고도 함\n",
    "* 의미 오류\n",
    "  * 오류 메시지를 생성하지 않음\n",
    "  * 엉뚱하게 무엇인가 오동작 중\n",
    "  * 오류가 난 부분을 한줄 한줄 확인 하면서 찾아야 함"
   ]
  }
 ],
 "metadata": {
  "kernelspec": {
   "display_name": "Python 3",
   "language": "python",
   "name": "python3"
  },
  "language_info": {
   "codemirror_mode": {
    "name": "ipython",
    "version": 3
   },
   "file_extension": ".py",
   "mimetype": "text/x-python",
   "name": "python",
   "nbconvert_exporter": "python",
   "pygments_lexer": "ipython3",
   "version": "3.6.5"
  }
 },
 "nbformat": 4,
 "nbformat_minor": 2
}

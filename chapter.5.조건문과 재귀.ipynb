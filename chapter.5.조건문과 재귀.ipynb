{
 "cells": [
  {
   "cell_type": "markdown",
   "metadata": {},
   "source": [
    "# 몫과 나머지 연산자\n",
    "\n",
    "* 몫 연산자 //\n",
    "* 두 수를 나누고 정수를 제외한 나머지를 잘라 버림\n",
    "* 나머지 연산자 %\n",
    "* 두 수를 나누고 나머지를 반환"
   ]
  },
  {
   "cell_type": "markdown",
   "metadata": {},
   "source": [
    "# 불 표현식(참/거짓)\n",
    "\n",
    "* 참과 거짓을 나타내는 표현식\n",
    "* == 연산자는 두 피연산자를 비교하고 같으면 True 다르면 False 를 반환\n",
    "* == 연산자는 관계 연산자중에 하나\n",
    "```python\n",
    "x != y  # x는 y와 같지 않다\n",
    "x > y   # x는 y보다 크다\n",
    "x < y   # x는 y보다 작다\n",
    "x >= y  # x는 y보다 크거나 같다\n",
    "x <= y  # x는 y보다 작거나 같다\n",
    "```"
   ]
  },
  {
   "cell_type": "markdown",
   "metadata": {},
   "source": [
    "# 논리 연산자\n",
    "\n",
    "* 논리 연산자는 세 가지가 있음\n",
    "* and, or, not\n",
    "* and 는 두 피연산자가 모두 True 인 경우 True, 아닌 경우 False 반환\n",
    "* or 는 두 피연산자 중 하나만 True 여도 True, 둘 다 False 인 경우 False 반환\n",
    "* not 연산은 현재 값의 반대값 반환(True 이면 False, False이면 True)"
   ]
  },
  {
   "cell_type": "markdown",
   "metadata": {},
   "source": [
    "# 조건부 실행\n",
    "\n",
    "* 조건에 따라 실행 흐름을 변경하는게 필요한 경우 사용\n",
    "* 조건문은 프로그램의 동작을 변경할 수 있음\n",
    "```python\n",
    "if x > 0:\n",
    "    print('x is positive')\n",
    "```\n",
    "* if 다음에 오는 불 표현식을 조건\n",
    "* 바디에 쓸 수 있는 문장의 제한은 없지만 최소 하나의 문장은 있어야 함"
   ]
  },
  {
   "cell_type": "markdown",
   "metadata": {},
   "source": [
    "# 대안부 실행\n",
    "\n",
    "* 조건에 따라 서로 다른 문장을 실행해야 하는 경우\n",
    "```python\n",
    "if x % 2:\n",
    "    print('x is even')\n",
    "else:\n",
    "    print('x is odd')\n",
    "```"
   ]
  },
  {
   "cell_type": "markdown",
   "metadata": {},
   "source": [
    "# 연쇄 조건문\n",
    "\n",
    "* 세 가지 이상의 선택지가 있는 경우\n",
    "```python\n",
    "if x < y:\n",
    "    print('x is less than y')\n",
    "elif x > y:\n",
    "    print('x is greater than y')\n",
    "else:\n",
    "    print('x and y are equal')\n",
    "```\n",
    "* elif 는 \"else if\" 의 약자\n",
    "* 사용할 수 있는 elif 문의 제한 조건은 없음"
   ]
  },
  {
   "cell_type": "markdown",
   "metadata": {},
   "source": [
    "# 중첩 조건문\n",
    "\n",
    "* 조건은 다른 조건에 중첩 가능\n",
    "```python\n",
    "if x == y:\n",
    "    print('x and y are equal')\n",
    "else:\n",
    "    if x < y:\n",
    "        print('x is less than y')\n",
    "    else:\n",
    "        print('x is greater than y')\n",
    "```\n",
    "* 중첩 조건문은 빨리 읽기가 어려움\n",
    "* 중첩 조건문은 논리 연산자를 사용해서 하나의 조건문으로 변경 가능\n"
   ]
  },
  {
   "cell_type": "markdown",
   "metadata": {},
   "source": [
    "# 재귀\n",
    "\n",
    "* 함수에서 다른 함수 호출 가능 하듯 함수가 자기 자신 호출도 가능\n",
    "* 함수가 자기 자신을 호출 하고 함수가 실행되는 과정을 재귀라 함\n",
    "* 무한 반복(함수가 자기를 계속해서 호출하고 어느시점에도 함수 실행 결과를 반환하지 않음)이 발생하지 않게 주의\n",
    "```python\n",
    "def countdown(n):\n",
    "    if n <= 0:\n",
    "        print('Blastoff!')\n",
    "    else:\n",
    "        print(n)\n",
    "        countdown(n-1)\n",
    "```\n",
    "* countdown(3) 호출하면 발생하는 일\n",
    "\n",
    "```python\n",
    "countdown의 실행은 n=3부터 시작, n이 0보다 크기 때문에 3을 출력하고 자기 자신 호출\n",
    "  countdown 의 실행은 n=2부터 시작하고 n이 0보다 크기 때문에 2를 출력하고 자기 자신 호출\n",
    "    countdown의 실행은 n=1부터 시작하고, n이 0보다 크기 때문에 1을 출력하고 자기 자신 호출\n",
    "      countdown의 실행은 n=0부터 시작하고, n이 0과 같기 때문에 Blastoff!를 출력하고 복귀\n",
    "    n=1을 받은 countdown이 복귀\n",
    "  n=2를 받은 countdown이 복귀\n",
    "n=3을 받은 countdown이 복귀\n",
    "```"
   ]
  },
  {
   "cell_type": "markdown",
   "metadata": {},
   "source": [
    "# 재귀 함수를 위한 스택 다이어그램"
   ]
  },
  {
   "cell_type": "markdown",
   "metadata": {},
   "source": [
    "# 무한 재귀"
   ]
  },
  {
   "cell_type": "markdown",
   "metadata": {},
   "source": [
    "# 키보드 입력\n",
    "\n",
    "* 사용자의 입력을 받기 위한 함수 제공(input)"
   ]
  },
  {
   "cell_type": "code",
   "execution_count": 1,
   "metadata": {},
   "outputs": [
    {
     "name": "stdout",
     "output_type": "stream",
     "text": [
      "What are you waiting for?\n",
      "What are you waiting for?\n"
     ]
    }
   ],
   "source": [
    "text = input()\n",
    "print(text)"
   ]
  },
  {
   "cell_type": "markdown",
   "metadata": {},
   "source": [
    "* input 은 프롬프트를 인수로 받음"
   ]
  },
  {
   "cell_type": "code",
   "execution_count": 2,
   "metadata": {},
   "outputs": [
    {
     "name": "stdout",
     "output_type": "stream",
     "text": [
      "What...is your name?\n",
      "Hyeongdo\n"
     ]
    }
   ],
   "source": [
    "name = input('What...is your name?\\n')"
   ]
  }
 ],
 "metadata": {
  "kernelspec": {
   "display_name": "Python 3",
   "language": "python",
   "name": "python3"
  },
  "language_info": {
   "codemirror_mode": {
    "name": "ipython",
    "version": 3
   },
   "file_extension": ".py",
   "mimetype": "text/x-python",
   "name": "python",
   "nbconvert_exporter": "python",
   "pygments_lexer": "ipython3",
   "version": "3.6.5"
  }
 },
 "nbformat": 4,
 "nbformat_minor": 2
}

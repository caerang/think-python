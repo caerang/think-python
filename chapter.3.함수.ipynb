{
 "cells": [
  {
   "cell_type": "markdown",
   "metadata": {},
   "source": [
    "# 함수 호출\n",
    "\n",
    "* 함수는 어떤 계산을 수행하는 문장들\n",
    "* 함수 호출은 어떤 계산을 수행해 달라고 함수에게 요청하는 것"
   ]
  },
  {
   "cell_type": "code",
   "execution_count": 1,
   "metadata": {},
   "outputs": [
    {
     "data": {
      "text/plain": [
       "int"
      ]
     },
     "execution_count": 1,
     "metadata": {},
     "output_type": "execute_result"
    }
   ],
   "source": [
    "type(42)"
   ]
  },
  {
   "cell_type": "markdown",
   "metadata": {},
   "source": [
    "* type은 함수 이름\n",
    "* 괄호 안에 들어간 표현식(42)는 함수의 인수(argument)\n",
    "* type 함수는 인수의 타입을 결과로 반환\n",
    "* 보통은 인수를 \"받고\" 결과를 \"돌려준다\"고 말함\n",
    "* 결과를 반환값, 또는 결과값(return value)라고 함"
   ]
  },
  {
   "cell_type": "code",
   "execution_count": 3,
   "metadata": {},
   "outputs": [
    {
     "name": "stdout",
     "output_type": "stream",
     "text": [
      "32\n"
     ]
    },
    {
     "ename": "ValueError",
     "evalue": "invalid literal for int() with base 10: 'hello'",
     "output_type": "error",
     "traceback": [
      "\u001b[0;31m---------------------------------------------------------------------------\u001b[0m",
      "\u001b[0;31mValueError\u001b[0m                                Traceback (most recent call last)",
      "\u001b[0;32m<ipython-input-3-6637b3e80c71>\u001b[0m in \u001b[0;36m<module>\u001b[0;34m()\u001b[0m\n\u001b[1;32m      1\u001b[0m \u001b[0mprint\u001b[0m\u001b[0;34m(\u001b[0m\u001b[0mint\u001b[0m\u001b[0;34m(\u001b[0m\u001b[0;34m'32'\u001b[0m\u001b[0;34m)\u001b[0m\u001b[0;34m)\u001b[0m\u001b[0;34m\u001b[0m\u001b[0m\n\u001b[0;32m----> 2\u001b[0;31m \u001b[0mprint\u001b[0m\u001b[0;34m(\u001b[0m\u001b[0mint\u001b[0m\u001b[0;34m(\u001b[0m\u001b[0;34m'hello'\u001b[0m\u001b[0;34m)\u001b[0m\u001b[0;34m)\u001b[0m\u001b[0;34m\u001b[0m\u001b[0m\n\u001b[0m",
      "\u001b[0;31mValueError\u001b[0m: invalid literal for int() with base 10: 'hello'"
     ]
    }
   ],
   "source": [
    "print(int('32'))\n",
    "print(int('hello'))"
   ]
  },
  {
   "cell_type": "markdown",
   "metadata": {},
   "source": [
    "* int는 부동소수점을 정수로 변환(반올림 하지 않음)\n",
    "* 분수 부분을 잘라냄"
   ]
  },
  {
   "cell_type": "code",
   "execution_count": 4,
   "metadata": {},
   "outputs": [
    {
     "name": "stdout",
     "output_type": "stream",
     "text": [
      "3\n",
      "-2\n"
     ]
    }
   ],
   "source": [
    "print(int(3.999999))\n",
    "print(int(-2.3))"
   ]
  },
  {
   "cell_type": "markdown",
   "metadata": {},
   "source": [
    "* float는 정수와 문자열을 부동소수점 숫자로 변환"
   ]
  },
  {
   "cell_type": "code",
   "execution_count": 5,
   "metadata": {},
   "outputs": [
    {
     "name": "stdout",
     "output_type": "stream",
     "text": [
      "32.0\n",
      "3.141592\n"
     ]
    }
   ],
   "source": [
    "print(float(32))\n",
    "print(float('3.141592'))"
   ]
  },
  {
   "cell_type": "markdown",
   "metadata": {},
   "source": [
    "* str은 인수를 문자열로 변환"
   ]
  },
  {
   "cell_type": "code",
   "execution_count": 6,
   "metadata": {},
   "outputs": [
    {
     "name": "stdout",
     "output_type": "stream",
     "text": [
      "32\n",
      "3.141592\n"
     ]
    }
   ],
   "source": [
    "print(str(32))\n",
    "print(str(3.141592))"
   ]
  },
  {
   "cell_type": "markdown",
   "metadata": {},
   "source": [
    "# 수학 함수\n",
    "\n",
    "* 수학 함수를 제공하는 math 모듈 제공\n",
    "* 모듈은 관련된 함수를 모아 놓은 파일\n",
    "* 모듈에 있는 함수를 사용하기 전에 import 문으로 모듈을 가져와야 함"
   ]
  },
  {
   "cell_type": "code",
   "execution_count": 7,
   "metadata": {},
   "outputs": [],
   "source": [
    "import math"
   ]
  },
  {
   "cell_type": "markdown",
   "metadata": {},
   "source": [
    "* math라는 모듈 개체 생성함(import math)"
   ]
  },
  {
   "cell_type": "code",
   "execution_count": 9,
   "metadata": {},
   "outputs": [
    {
     "data": {
      "text/plain": [
       "<module 'math' from '/Users/hyeongdo/.pyenv/versions/3.6.5/lib/python3.6/lib-dynload/math.cpython-36m-darwin.so'>"
      ]
     },
     "execution_count": 9,
     "metadata": {},
     "output_type": "execute_result"
    }
   ],
   "source": [
    "math"
   ]
  },
  {
   "cell_type": "markdown",
   "metadata": {},
   "source": [
    "* 모듈 개체에는 모듈에 정의된 함수와 변수가 담겨 있음\n",
    "* 모듈의 이름과 사용할 함수의 이름을 (.)으로 연결해서 사용(점 표기법)"
   ]
  },
  {
   "cell_type": "code",
   "execution_count": 16,
   "metadata": {},
   "outputs": [
    {
     "name": "stdout",
     "output_type": "stream",
     "text": [
      "10.0\n",
      "0.644217687237691\n",
      "0.7071067811865475\n"
     ]
    },
    {
     "data": {
      "text/plain": [
       "0.7071067811865476"
      ]
     },
     "execution_count": 16,
     "metadata": {},
     "output_type": "execute_result"
    }
   ],
   "source": [
    "signal_power = 100\n",
    "noise_power = 10\n",
    "ratio = signal_power / noise_power\n",
    "decibels = 10 * math.log10(ratio)\n",
    "print(decibels)\n",
    "radians = 0.7\n",
    "height = math.sin(radians)\n",
    "print(height)\n",
    "\n",
    "degrees = 45\n",
    "radians = degrees / 180.0 * math.pi\n",
    "print(math.sin(radians))\n",
    "math.sqrt(2) / 2.0"
   ]
  },
  {
   "cell_type": "markdown",
   "metadata": {},
   "source": [
    "# 조합\n",
    "\n",
    "* 변수, 표현식, 문장 같은 프로그램의 기본 요소를 살펴 봄\n",
    "* 프로그래밍은 프로그램의 기본 요소를 조합하는 과정\n",
    "* 다양한 표현식의 조합 예\n",
    "```python\n",
    "x = math.sin(degrees / 360.0 * 2 * math.pi)\n",
    "```\n",
    "\n",
    "* 인수에서 함수를 호출하는 예\n",
    "```python\n",
    "x = math.exp(math.log(x+1))\n",
    "```\n",
    "* 할당문의 왼쪽에는 변수 이름\n",
    "\n",
    "\n",
    "# 새 함수를 추가하기\n",
    "\n",
    "* 함수 정의는 새 함수의 이름과 함수가 호출될 때 실행할 문장들을 지정하는 작업\n",
    "```python\n",
    "def print_lyrics():\n",
    "    print(\"I'm a lumberjack, and I'm okay.\")\n",
    "    print(\"I sleep all night and I work all day.\")\n",
    "```\n",
    "* **def** 는 함수 정의 시작을 알리는 키워드\n",
    "* **print_lyrics**는 함수 이름\n",
    "* 함수 이름 규칙은 변수 이름 규칙과 같음\n",
    "* 함수 이름 뒤에 **()**를 쓰면 인수를 받지 않는다는 뜻\n",
    "* 함수 정의 첫 번째 줄을 헤더, 나머지를 바디 라고 함\n",
    "* 헤더는 :(콜론)으로 끝남\n",
    "* 관례에 따라 들여쓰기는 4칸 공백으로\n",
    "* 바디에는 여러 문장 지정 가능\n",
    "* print 문에서 문자열은 큰따옴표 \"\"로 둘러싸여 있음\n",
    "* 문자열에서 작은따옴표, 큰따옴표 모두 동일 역할\n",
    "* 통상적으로 문자열에서 작은따옴표를 사용해야 하는 경우가 아니면 문자열을 표현할 때 작은타옴표 사용\n",
    "* 함수를 정의 하면 함수 개체를 생성한 것이므로 function 타입을 갖음"
   ]
  },
  {
   "cell_type": "code",
   "execution_count": 18,
   "metadata": {},
   "outputs": [
    {
     "name": "stdout",
     "output_type": "stream",
     "text": [
      "<function print_lyrics at 0x10d80a510>\n"
     ]
    },
    {
     "data": {
      "text/plain": [
       "function"
      ]
     },
     "execution_count": 18,
     "metadata": {},
     "output_type": "execute_result"
    }
   ],
   "source": [
    "def print_lyrics():\n",
    "    print(\"I'm a lumberjack, and I'm okay.\")\n",
    "    print(\"I sleep all night and I work all day.\")\n",
    "    \n",
    "print(print_lyrics)\n",
    "type(print_lyrics)"
   ]
  },
  {
   "cell_type": "markdown",
   "metadata": {},
   "source": [
    "* 새 함수를 호출하는 것은 내장 함수를 호출 하는 것과 동일"
   ]
  },
  {
   "cell_type": "code",
   "execution_count": 19,
   "metadata": {},
   "outputs": [
    {
     "name": "stdout",
     "output_type": "stream",
     "text": [
      "I'm a lumberjack, and I'm okay.\n",
      "I sleep all night and I work all day.\n"
     ]
    }
   ],
   "source": [
    "print_lyrics()"
   ]
  },
  {
   "cell_type": "markdown",
   "metadata": {},
   "source": [
    "* 새로 정의한 함수는 다른 함수에서도 사용 가능"
   ]
  },
  {
   "cell_type": "code",
   "execution_count": 21,
   "metadata": {},
   "outputs": [
    {
     "name": "stdout",
     "output_type": "stream",
     "text": [
      "I'm a lumberjack, and I'm okay.\n",
      "I sleep all night and I work all day.\n",
      "I'm a lumberjack, and I'm okay.\n",
      "I sleep all night and I work all day.\n"
     ]
    }
   ],
   "source": [
    "def repeat_lyrics():\n",
    "    print_lyrics()\n",
    "    print_lyrics()\n",
    "    \n",
    "repeat_lyrics()"
   ]
  },
  {
   "cell_type": "markdown",
   "metadata": {},
   "source": [
    "# 정의와 사용\n",
    "\n",
    "* 함수 정의는 다른 문장처럼 실행할 수 있지만, 실제로는 함수 개체 생성\n",
    "* 함수 안의 문장은 함수가 호출될 때까지 실행되지 않음"
   ]
  },
  {
   "cell_type": "markdown",
   "metadata": {},
   "source": [
    "# 실행 흐름\n",
    "\n",
    "* 실행 하는 문장의 순서\n",
    "* 실행은 항상 프로그램의 첫 번째 문장에서 시작\n",
    "* 문장은 처음에서 끝까지, 한 번에 하나씩 실행\n",
    "* 함수 정의는 프로그램의 실행 흐름을 변경하지 않음"
   ]
  },
  {
   "cell_type": "markdown",
   "metadata": {},
   "source": [
    "# 인자와 인수\n",
    "\n",
    "* 인수(argument)는 함수를 호출할 때 함수에 전달하는 값\n",
    "* 인자(parameter)는 함수를 정의할 때 인수를 전달 받기 위한 변수 이름\n",
    "```python\n",
    "def print_twice(bruce):\n",
    "    print(bruce)\n",
    "    print(bruce)\n",
    "```"
   ]
  },
  {
   "cell_type": "code",
   "execution_count": 22,
   "metadata": {},
   "outputs": [
    {
     "name": "stdout",
     "output_type": "stream",
     "text": [
      "Spam\n",
      "Spam\n",
      "42\n",
      "42\n",
      "3.141592653589793\n",
      "3.141592653589793\n"
     ]
    }
   ],
   "source": [
    "def print_twice(bruce):\n",
    "    print(bruce)\n",
    "    print(bruce)\n",
    "    \n",
    "print_twice('Spam')\n",
    "print_twice(42)\n",
    "print_twice(math.pi)"
   ]
  },
  {
   "cell_type": "markdown",
   "metadata": {},
   "source": [
    "* 내장 함수에 적용된 조합 규칙은 사용자 정의 함수에도 동일하게 적용"
   ]
  },
  {
   "cell_type": "code",
   "execution_count": 24,
   "metadata": {},
   "outputs": [
    {
     "name": "stdout",
     "output_type": "stream",
     "text": [
      "Spam Spam Spam Spam \n",
      "Spam Spam Spam Spam \n",
      "-1.0\n",
      "-1.0\n"
     ]
    }
   ],
   "source": [
    "print_twice('Spam ' * 4)\n",
    "print_twice(math.cos(math.pi))"
   ]
  },
  {
   "cell_type": "markdown",
   "metadata": {},
   "source": [
    "* 변수도 인수로 사용 가능"
   ]
  },
  {
   "cell_type": "code",
   "execution_count": 25,
   "metadata": {},
   "outputs": [
    {
     "name": "stdout",
     "output_type": "stream",
     "text": [
      "Eric, the half a bee.\n",
      "Eric, the half a bee.\n"
     ]
    }
   ],
   "source": [
    "michael = 'Eric, the half a bee.'\n",
    "print_twice(michael)"
   ]
  },
  {
   "cell_type": "markdown",
   "metadata": {},
   "source": [
    "# 변수와 인자는 지역 범위다\n",
    "\n",
    "* 변수는 변수의 사용 범위에 따라 지역 변수, 전역 변수로 구분\n",
    "* 함수 안에 변수를 생성하면 지역 변수\n",
    "* 함수 정의에 선언된 인자도 지역 변수"
   ]
  },
  {
   "cell_type": "code",
   "execution_count": 26,
   "metadata": {},
   "outputs": [
    {
     "name": "stdout",
     "output_type": "stream",
     "text": [
      "Bing tiddle tiddle bang.\n",
      "Bing tiddle tiddle bang.\n"
     ]
    },
    {
     "ename": "NameError",
     "evalue": "name 'cat' is not defined",
     "output_type": "error",
     "traceback": [
      "\u001b[0;31m---------------------------------------------------------------------------\u001b[0m",
      "\u001b[0;31mNameError\u001b[0m                                 Traceback (most recent call last)",
      "\u001b[0;32m<ipython-input-26-70bca240a4db>\u001b[0m in \u001b[0;36m<module>\u001b[0;34m()\u001b[0m\n\u001b[1;32m      6\u001b[0m \u001b[0mline2\u001b[0m \u001b[0;34m=\u001b[0m \u001b[0;34m'tiddle bang.'\u001b[0m\u001b[0;34m\u001b[0m\u001b[0m\n\u001b[1;32m      7\u001b[0m \u001b[0mcat_twice\u001b[0m\u001b[0;34m(\u001b[0m\u001b[0mline1\u001b[0m\u001b[0;34m,\u001b[0m \u001b[0mline2\u001b[0m\u001b[0;34m)\u001b[0m\u001b[0;34m\u001b[0m\u001b[0m\n\u001b[0;32m----> 8\u001b[0;31m \u001b[0mprint\u001b[0m\u001b[0;34m(\u001b[0m\u001b[0mcat\u001b[0m\u001b[0;34m)\u001b[0m\u001b[0;34m\u001b[0m\u001b[0m\n\u001b[0m",
      "\u001b[0;31mNameError\u001b[0m: name 'cat' is not defined"
     ]
    }
   ],
   "source": [
    "def cat_twice(part1, part2):\n",
    "    cat = part1 + part2\n",
    "    print_twice(cat)\n",
    "    \n",
    "line1 = 'Bing tiddle '\n",
    "line2 = 'tiddle bang.'\n",
    "cat_twice(line1, line2)\n",
    "print(cat)"
   ]
  },
  {
   "cell_type": "markdown",
   "metadata": {},
   "source": [
    "# 스택 다이어그램\n",
    "\n",
    "* 어느 변수가 어디에 사용되는지 따라가려면 스택 다이어그램을 그리면 좋음\n",
    "* 함수의 호출 순서에 따라 변수의 내용 변화를 쌓아서 그린 다이어그램"
   ]
  },
  {
   "cell_type": "markdown",
   "metadata": {},
   "source": [
    "# 결과가 있는 함수와 없는 함수\n",
    "\n",
    "* 결과를 반환 하는 함수와 결과를 반환하지 않는 함수가 있음"
   ]
  },
  {
   "cell_type": "markdown",
   "metadata": {},
   "source": [
    "# 왜 함수인가?\n",
    "\n",
    "* 여러 문장을 묶어서 이름을 붙일 수 있음(디버그 하거나 프로그램을 읽는게 쉬워 짐)\n",
    "* 반복되는 코드 제가 가능(프로그램을 더 작게 만들 수 있고, 프로그램을 이해하기 쉬워 짐)\n",
    "* 수정 부분을 최소화 할 수 있음\n",
    "* 잘 설계된 함수는 다양한 프로그램에 사용 가능\n"
   ]
  }
 ],
 "metadata": {
  "kernelspec": {
   "display_name": "Python 3",
   "language": "python",
   "name": "python3"
  },
  "language_info": {
   "codemirror_mode": {
    "name": "ipython",
    "version": 3
   },
   "file_extension": ".py",
   "mimetype": "text/x-python",
   "name": "python",
   "nbconvert_exporter": "python",
   "pygments_lexer": "ipython3",
   "version": "3.6.5"
  }
 },
 "nbformat": 4,
 "nbformat_minor": 2
}
